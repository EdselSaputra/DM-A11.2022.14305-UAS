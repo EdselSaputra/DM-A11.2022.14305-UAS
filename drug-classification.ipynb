{
 "cells": [
  {
   "cell_type": "code",
   "execution_count": 18,
   "id": "a220dc84-fdd3-4967-ae9b-78fafb773320",
   "metadata": {},
   "outputs": [],
   "source": [
    "import pandas as pd\n",
    "import seaborn as sns\n",
    "import matplotlib.pyplot as plt\n",
    "from sklearn.model_selection import train_test_split, cross_val_score, GridSearchCV\n",
    "from sklearn.ensemble import RandomForestClassifier\n",
    "from sklearn.linear_model import LogisticRegression\n",
    "from sklearn.metrics import classification_report, accuracy_score, confusion_matrix, ConfusionMatrixDisplay\n",
    "from imblearn.over_sampling import SMOTE\n",
    "import streamlit as st"
   ]
  },
  {
   "cell_type": "code",
   "execution_count": 3,
   "id": "ec709dea-dc83-4f08-8b1d-f9f9f8244128",
   "metadata": {},
   "outputs": [],
   "source": [
    "# Load the dataset\n",
    "data = pd.read_csv('dataset/drug_consumption.csv')"
   ]
  },
  {
   "cell_type": "code",
   "execution_count": 4,
   "id": "07cc5a67-afd6-4497-a9d9-948b213a4aca",
   "metadata": {},
   "outputs": [
    {
     "name": "stderr",
     "output_type": "stream",
     "text": [
      "2025-01-19 12:43:30.886 WARNING streamlit.runtime.scriptrunner_utils.script_run_context: Thread 'MainThread': missing ScriptRunContext! This warning can be ignored when running in bare mode.\n",
      "2025-01-19 12:43:31.197 \n",
      "  \u001b[33m\u001b[1mWarning:\u001b[0m to view this Streamlit app on a browser, run it with the following\n",
      "  command:\n",
      "\n",
      "    streamlit run C:\\Users\\HP\\AppData\\Local\\Programs\\Python\\Python312\\Lib\\site-packages\\ipykernel_launcher.py [ARGUMENTS]\n",
      "2025-01-19 12:43:31.198 Thread 'MainThread': missing ScriptRunContext! This warning can be ignored when running in bare mode.\n"
     ]
    },
    {
     "data": {
      "text/plain": [
       "DeltaGenerator()"
      ]
     },
     "execution_count": 4,
     "metadata": {},
     "output_type": "execute_result"
    }
   ],
   "source": [
    "# Streamlit app title\n",
    "st.title(\"Analisis Konsumsi Obat Cannabis dengan Machine Learning\")"
   ]
  },
  {
   "cell_type": "code",
   "execution_count": 5,
   "id": "1bbaa1b9-55e9-48d0-8d59-b07f7a70de5e",
   "metadata": {},
   "outputs": [],
   "source": [
    "# Pilihan kolom obat\n",
    "drug_columns = [col for col in data.columns if col not in ['ID', 'Age', 'Gender', 'Education', 'Country', 'Ethnicity']]\n",
    "drug_column = 'Cannabis'"
   ]
  },
  {
   "cell_type": "code",
   "execution_count": 6,
   "id": "2976febb-32f7-429b-8881-3d00521ed353",
   "metadata": {},
   "outputs": [],
   "source": [
    "# Pilih skor psikologis\n",
    "psychological_scores = ['Nscore', 'Escore', 'Oscore', 'Ascore', 'Cscore', 'Impulsive', 'SS']"
   ]
  },
  {
   "cell_type": "code",
   "execution_count": 7,
   "id": "eeda4dac-92e2-4039-b3ab-7f170ae5c535",
   "metadata": {},
   "outputs": [],
   "source": [
    "# Filter dataset untuk kolom yang relevan\n",
    "selected_columns = psychological_scores + [drug_column]\n",
    "df_selected = data[selected_columns].copy()"
   ]
  },
  {
   "cell_type": "code",
   "execution_count": 8,
   "id": "8e3e794a-d04a-4896-a3d0-62c1df3ae050",
   "metadata": {},
   "outputs": [],
   "source": [
    "# Konversi kolom konsumsi obat menjadi numerik untuk klasifikasi\n",
    "def map_drug_usage(value):\n",
    "    # Map drug usage levels to numerical values\n",
    "    usage_mapping = {'CL0': 0, 'CL1': 1, 'CL2': 2, 'CL3': 3, 'CL4': 4, 'CL5': 5, 'CL6': 6}\n",
    "    return usage_mapping.get(value, None)\n",
    "\n",
    "df_selected[drug_column] = df_selected[drug_column].map(map_drug_usage)"
   ]
  },
  {
   "cell_type": "code",
   "execution_count": 9,
   "id": "a2492e4f-277b-4c53-b58b-edac5eefec75",
   "metadata": {},
   "outputs": [],
   "source": [
    "# Drop entri dengan nilai null yang dihasilkan dari pemetaan\n",
    "df_selected = df_selected.dropna()"
   ]
  },
  {
   "cell_type": "code",
   "execution_count": 10,
   "id": "4a7f212c-8cc4-4f52-bdca-15743f5842ca",
   "metadata": {},
   "outputs": [],
   "source": [
    "df_selected[drug_column] = df_selected[drug_column].squeeze()\n",
    "df_selected['Cannabis_Binary'] = df_selected[drug_column].apply(lambda x: 1 if x > 0 else 0)"
   ]
  },
  {
   "cell_type": "code",
   "execution_count": 19,
   "id": "78d839ac-6dda-4a14-a79d-b1f2f78e2784",
   "metadata": {},
   "outputs": [
    {
     "name": "stderr",
     "output_type": "stream",
     "text": [
      "2025-01-19 12:51:21.061 Thread 'MainThread': missing ScriptRunContext! This warning can be ignored when running in bare mode.\n",
      "2025-01-19 12:51:21.062 Thread 'MainThread': missing ScriptRunContext! This warning can be ignored when running in bare mode.\n",
      "2025-01-19 12:51:21.063 Thread 'MainThread': missing ScriptRunContext! This warning can be ignored when running in bare mode.\n",
      "2025-01-19 12:51:21.064 Thread 'MainThread': missing ScriptRunContext! This warning can be ignored when running in bare mode.\n",
      "2025-01-19 12:51:21.064 Thread 'MainThread': missing ScriptRunContext! This warning can be ignored when running in bare mode.\n"
     ]
    }
   ],
   "source": [
    "# EDA\n",
    "if st.checkbox(\"Tampilkan Exploratory Data Analysis (EDA)\"):\n",
    "    # Distribusi target\n",
    "    st.subheader(\"Distribusi Penggunaan Obat (Biner)\")\n",
    "    count_fig = plt.figure(figsize=(8, 6))\n",
    "    sns.countplot(x='Cannabis_Binary', data=df_selected, palette='viridis')\n",
    "    plt.title('Distribusi Penggunaan Obat (Biner)')\n",
    "    plt.xlabel('Penggunaan Obat (Biner)')\n",
    "    plt.ylabel('Jumlah')\n",
    "    st.pyplot(count_fig)\n",
    "\n",
    "    # Distribusi skor psikologis\n",
    "    for score in psychological_scores:\n",
    "        st.subheader(f\"Distribusi {score}\")\n",
    "        score_fig = plt.figure(figsize=(8, 6))\n",
    "        sns.histplot(df_selected[score], kde=True, color='blue', bins=30)\n",
    "        plt.title(f'Distribusi {score}')\n",
    "        plt.xlabel(score)\n",
    "        plt.ylabel('Frekuensi')\n",
    "        st.pyplot(score_fig)"
   ]
  },
  {
   "cell_type": "code",
   "execution_count": 12,
   "id": "5f4d66d4-17c7-4444-a186-f08cbbb9b3e9",
   "metadata": {},
   "outputs": [],
   "source": [
    "X = df_selected[psychological_scores]\n",
    "y = df_selected['Cannabis_Binary']"
   ]
  },
  {
   "cell_type": "code",
   "execution_count": 13,
   "id": "de9cf221-e0f2-47be-bff7-7aa81dd377d2",
   "metadata": {},
   "outputs": [],
   "source": [
    "# Handle class imbalance menggunakan SMOTE\n",
    "smote = SMOTE(random_state=42)\n",
    "X_resampled, y_resampled = smote.fit_resample(X, y)"
   ]
  },
  {
   "cell_type": "code",
   "execution_count": 14,
   "id": "77475498-2b6f-4ffb-a0a4-d7e0c607dbea",
   "metadata": {},
   "outputs": [],
   "source": [
    "# Bagi data menjadi training dan testing\n",
    "X_train, X_test, y_train, y_test = train_test_split(X_resampled, y_resampled, test_size=0.2, random_state=42)"
   ]
  },
  {
   "cell_type": "code",
   "execution_count": 15,
   "id": "4c32111b-ea90-4533-86f8-9d0f31287871",
   "metadata": {},
   "outputs": [
    {
     "name": "stderr",
     "output_type": "stream",
     "text": [
      "2025-01-19 12:44:48.142 Thread 'MainThread': missing ScriptRunContext! This warning can be ignored when running in bare mode.\n",
      "2025-01-19 12:44:48.143 Thread 'MainThread': missing ScriptRunContext! This warning can be ignored when running in bare mode.\n",
      "2025-01-19 12:44:48.145 Thread 'MainThread': missing ScriptRunContext! This warning can be ignored when running in bare mode.\n",
      "2025-01-19 12:44:48.145 Thread 'MainThread': missing ScriptRunContext! This warning can be ignored when running in bare mode.\n",
      "2025-01-19 12:44:48.146 Session state does not function when running a script without `streamlit run`\n",
      "2025-01-19 12:44:48.147 Thread 'MainThread': missing ScriptRunContext! This warning can be ignored when running in bare mode.\n",
      "2025-01-19 12:44:48.148 Thread 'MainThread': missing ScriptRunContext! This warning can be ignored when running in bare mode.\n"
     ]
    }
   ],
   "source": [
    "# Pilih model\n",
    "model_choice = st.selectbox(\"Pilih Model\", [\"Random Forest\", \"Logistic Regression\"], index=0)\n",
    "\n",
    "if model_choice == \"Random Forest\":\n",
    "    # Hyperparameter tuning\n",
    "    param_grid = {\n",
    "        'n_estimators': [50, 100, 200],\n",
    "        'max_depth': [10, 20, None],\n",
    "        'min_samples_split': [2, 5, 10]\n",
    "    }\n",
    "    grid_search = GridSearchCV(RandomForestClassifier(random_state=42), param_grid, cv=5)\n",
    "    grid_search.fit(X_train, y_train)\n",
    "    clf = grid_search.best_estimator_\n",
    "else:\n",
    "    # Logistic Regression\n",
    "    clf = LogisticRegression(max_iter=1000, random_state=42)\n",
    "    clf.fit(X_train, y_train)"
   ]
  },
  {
   "cell_type": "code",
   "execution_count": 16,
   "id": "c324ee04-f40f-424c-8f2a-da62daf91fa9",
   "metadata": {},
   "outputs": [
    {
     "name": "stderr",
     "output_type": "stream",
     "text": [
      "2025-01-19 12:45:29.059 Thread 'MainThread': missing ScriptRunContext! This warning can be ignored when running in bare mode.\n",
      "2025-01-19 12:45:29.059 Thread 'MainThread': missing ScriptRunContext! This warning can be ignored when running in bare mode.\n",
      "2025-01-19 12:45:29.061 Thread 'MainThread': missing ScriptRunContext! This warning can be ignored when running in bare mode.\n",
      "2025-01-19 12:45:29.062 Thread 'MainThread': missing ScriptRunContext! This warning can be ignored when running in bare mode.\n",
      "2025-01-19 12:45:29.063 Thread 'MainThread': missing ScriptRunContext! This warning can be ignored when running in bare mode.\n"
     ]
    }
   ],
   "source": [
    "# Prediksi\n",
    "if st.button(\"Jalankan Analisis\"):\n",
    "    y_pred = clf.predict(X_test)\n",
    "\n",
    "    # Evaluasi\n",
    "    accuracy = accuracy_score(y_test, y_pred)\n",
    "    st.subheader(\"Hasil Evaluasi Model\")\n",
    "    st.write(f\"Akurasi: {accuracy:.2f}\")\n",
    "    st.text(\"Classification Report:\")\n",
    "    st.text(classification_report(y_test, y_pred))\n",
    "\n",
    "    # Confusion Matrix\n",
    "    cm_fig = plt.figure(figsize=(8, 6))\n",
    "    cm = confusion_matrix(y_test, y_pred, labels=clf.classes_)\n",
    "    disp = ConfusionMatrixDisplay(confusion_matrix=cm, display_labels=clf.classes_)\n",
    "    disp.plot(cmap='Blues')\n",
    "    plt.title('Confusion Matrix')\n",
    "    st.pyplot(cm_fig)\n",
    "\n",
    "    # Feature Importances (hanya untuk Random Forest)\n",
    "    if model_choice == \"Random Forest\":\n",
    "        st.subheader(\"Feature Importances\")\n",
    "        feature_importances = pd.Series(clf.feature_importances_, index=psychological_scores)\n",
    "        feature_fig = plt.figure(figsize=(8, 6))\n",
    "        feature_importances.sort_values().plot(kind='barh', color='skyblue')\n",
    "        plt.title('Feature Importances')\n",
    "        plt.xlabel('Importance')\n",
    "        plt.ylabel('Features')\n",
    "        st.pyplot(feature_fig)"
   ]
  },
  {
   "cell_type": "code",
   "execution_count": 17,
   "id": "1b4074fe-1c73-4bf9-9744-8c0ee901cdb9",
   "metadata": {},
   "outputs": [
    {
     "name": "stderr",
     "output_type": "stream",
     "text": [
      "2025-01-19 12:45:32.055 Thread 'MainThread': missing ScriptRunContext! This warning can be ignored when running in bare mode.\n",
      "2025-01-19 12:45:32.057 Thread 'MainThread': missing ScriptRunContext! This warning can be ignored when running in bare mode.\n",
      "2025-01-19 12:45:32.058 Thread 'MainThread': missing ScriptRunContext! This warning can be ignored when running in bare mode.\n",
      "2025-01-19 12:45:32.059 Thread 'MainThread': missing ScriptRunContext! This warning can be ignored when running in bare mode.\n",
      "2025-01-19 12:45:32.060 Thread 'MainThread': missing ScriptRunContext! This warning can be ignored when running in bare mode.\n"
     ]
    }
   ],
   "source": [
    "# Cross-Validation\n",
    "if st.checkbox(\"Tampilkan Cross-Validation\"):\n",
    "    cv_scores = cross_val_score(clf, X_resampled, y_resampled, cv=5)\n",
    "    st.write(\"Cross-Validation Scores:\", cv_scores)\n",
    "    st.write(\"Mean CV Score:\", cv_scores.mean())"
   ]
  },
  {
   "cell_type": "code",
   "execution_count": null,
   "id": "c4fc33dc-4abf-4942-9a69-8cbf9e3f3a41",
   "metadata": {},
   "outputs": [],
   "source": []
  }
 ],
 "metadata": {
  "jupytext": {
   "formats": "ipynb,py:light"
  },
  "kernelspec": {
   "display_name": "Python 3 (ipykernel)",
   "language": "python",
   "name": "python3"
  },
  "language_info": {
   "codemirror_mode": {
    "name": "ipython",
    "version": 3
   },
   "file_extension": ".py",
   "mimetype": "text/x-python",
   "name": "python",
   "nbconvert_exporter": "python",
   "pygments_lexer": "ipython3",
   "version": "3.12.2"
  }
 },
 "nbformat": 4,
 "nbformat_minor": 5
}
